{
 "cells": [
  {
   "cell_type": "code",
   "execution_count": 2,
   "id": "fc9682b5",
   "metadata": {},
   "outputs": [],
   "source": [
    "import numpy as np\n",
    "import cv2 as cv\n"
   ]
  },
  {
   "cell_type": "code",
   "execution_count": 3,
   "id": "04245889",
   "metadata": {},
   "outputs": [],
   "source": [
    "def __draw_label(img, text, pos, bg_color):\n",
    "   font_face = cv.FONT_HERSHEY_SIMPLEX\n",
    "   scale = 0.4\n",
    "   color = (0, 0, 0)\n",
    "   thickness = cv.FILLED\n",
    "   margin = 2\n",
    "   txt_size = cv.getTextSize(text, font_face, scale, thickness)\n",
    "\n",
    "   end_x = pos[0] + txt_size[0][0] + margin\n",
    "   end_y = pos[1] - txt_size[0][1] - margin\n",
    "\n",
    "   cv.rectangle(img, pos, (end_x, end_y), bg_color, thickness)\n",
    "   cv.putText(img, text, pos, font_face, scale, color, 1, cv.LINE_AA)"
   ]
  },
  {
   "cell_type": "code",
   "execution_count": 5,
   "id": "2884bab3",
   "metadata": {},
   "outputs": [
    {
     "name": "stderr",
     "output_type": "stream",
     "text": [
      "[ WARN:0@17.965] global ../modules/videoio/src/cap_gstreamer.cpp (862) isPipelinePlaying OpenCV | GStreamer warning: GStreamer: pipeline have not been created\n"
     ]
    }
   ],
   "source": [
    "cap = cv.VideoCapture(0)\n",
    "if not cap.isOpened():\n",
    "    print(\"Cannot open camera\")\n",
    "    exit()\n",
    "while True:\n",
    "    # Capture frame-by-frame\n",
    "    ret, frame = cap.read()\n",
    "    # if frame is read correctly ret is True\n",
    "    if not ret:\n",
    "        print(\"Can't receive frame (stream end?). Exiting ...\")\n",
    "        break\n",
    "    # Our operations on the frame come here\n",
    "   # gray = cv.cvtColor(frame, cv.COLOR_BGR2GRAY)\n",
    "    __draw_label(frame, 'Hello World', (20,20), (255,0,0))\n",
    "\n",
    "    # Display the resulting frame\n",
    "    cv.imshow('frame', frame)\n",
    "    if cv.waitKey(1) == ord('q'):\n",
    "        break\n",
    "# When everything done, release the capture\n",
    "cap.release()\n",
    "cv.destroyAllWindows()"
   ]
  }
 ],
 "metadata": {
  "kernelspec": {
   "display_name": "Python 3 (ipykernel)",
   "language": "python",
   "name": "python3"
  },
  "language_info": {
   "codemirror_mode": {
    "name": "ipython",
    "version": 3
   },
   "file_extension": ".py",
   "mimetype": "text/x-python",
   "name": "python",
   "nbconvert_exporter": "python",
   "pygments_lexer": "ipython3",
   "version": "3.9.12"
  }
 },
 "nbformat": 4,
 "nbformat_minor": 5
}
